{
  "nbformat": 4,
  "nbformat_minor": 0,
  "metadata": {
    "colab": {
      "provenance": []
    },
    "kernelspec": {
      "name": "python3",
      "display_name": "Python 3"
    },
    "language_info": {
      "name": "python"
    }
  },
  "cells": [
    {
      "cell_type": "code",
      "execution_count": 1,
      "metadata": {
        "id": "Arg9o1ceGjj-"
      },
      "outputs": [],
      "source": [
        "import pandas as pd\n",
        "import os\n",
        "import json"
      ]
    },
    {
      "cell_type": "code",
      "source": [
        "from google.colab import drive\n",
        "drive.mount('/content/drive')"
      ],
      "metadata": {
        "colab": {
          "base_uri": "https://localhost:8080/"
        },
        "id": "AZGd9q62GtL3",
        "outputId": "70f7dcef-5e5b-4137-8194-415509ecf32d"
      },
      "execution_count": 2,
      "outputs": [
        {
          "output_type": "stream",
          "name": "stdout",
          "text": [
            "Drive already mounted at /content/drive; to attempt to forcibly remount, call drive.mount(\"/content/drive\", force_remount=True).\n"
          ]
        }
      ]
    },
    {
      "cell_type": "code",
      "source": [
        "FEATURES_FILE = \"/content/drive/MyDrive/Edulift/eVED_features.csv\"\n",
        "SPLIT_DIR = \"/content/drive/MyDrive/Edulift/T7/data/splits\"\n",
        "os.makedirs(SPLIT_DIR, exist_ok=True)"
      ],
      "metadata": {
        "id": "UZFss-BTGrH0"
      },
      "execution_count": 3,
      "outputs": []
    },
    {
      "cell_type": "code",
      "source": [
        "df = pd.read_csv(FEATURES_FILE)"
      ],
      "metadata": {
        "id": "d4VtQYdPMFGC"
      },
      "execution_count": 4,
      "outputs": []
    },
    {
      "cell_type": "code",
      "source": [
        "len(df)"
      ],
      "metadata": {
        "colab": {
          "base_uri": "https://localhost:8080/"
        },
        "id": "AryxP-ctNlM5",
        "outputId": "f4ba4172-2b0d-4dcc-e632-289fe8a9c203"
      },
      "execution_count": 5,
      "outputs": [
        {
          "output_type": "execute_result",
          "data": {
            "text/plain": [
              "655"
            ]
          },
          "metadata": {},
          "execution_count": 5
        }
      ]
    },
    {
      "cell_type": "code",
      "source": [
        "df['start_time'] = pd.to_datetime(df['start_time'], errors='coerce')"
      ],
      "metadata": {
        "id": "1qH95tkfML2Q"
      },
      "execution_count": 6,
      "outputs": []
    },
    {
      "cell_type": "code",
      "source": [
        "df = df.sort_values('start_time').reset_index(drop=True)"
      ],
      "metadata": {
        "id": "NTptU8WiM-q5"
      },
      "execution_count": 7,
      "outputs": []
    },
    {
      "cell_type": "code",
      "source": [
        "df.info()"
      ],
      "metadata": {
        "colab": {
          "base_uri": "https://localhost:8080/"
        },
        "id": "yW0AKX2tNAFF",
        "outputId": "13d791f9-855c-483f-fe89-ca08bb5d10aa"
      },
      "execution_count": 8,
      "outputs": [
        {
          "output_type": "stream",
          "name": "stdout",
          "text": [
            "<class 'pandas.core.frame.DataFrame'>\n",
            "RangeIndex: 655 entries, 0 to 654\n",
            "Data columns (total 12 columns):\n",
            " #   Column             Non-Null Count  Dtype         \n",
            "---  ------             --------------  -----         \n",
            " 0   Trip               655 non-null    float64       \n",
            " 1   start_time         655 non-null    datetime64[ns]\n",
            " 2   end_time           655 non-null    object        \n",
            " 3   duration_min       655 non-null    float64       \n",
            " 4   distance_km        653 non-null    float64       \n",
            " 5   avg_speed_kmh      653 non-null    float64       \n",
            " 6   matched_lat_start  655 non-null    float64       \n",
            " 7   matched_lon_start  655 non-null    float64       \n",
            " 8   od_cluster_start   655 non-null    int64         \n",
            " 9   matched_lat_end    655 non-null    float64       \n",
            " 10  matched_lon_end    655 non-null    float64       \n",
            " 11  od_cluster_end     655 non-null    int64         \n",
            "dtypes: datetime64[ns](1), float64(8), int64(2), object(1)\n",
            "memory usage: 61.5+ KB\n"
          ]
        }
      ]
    },
    {
      "cell_type": "code",
      "source": [
        "n = len(df)"
      ],
      "metadata": {
        "id": "WcGnsFYcNDEa"
      },
      "execution_count": 9,
      "outputs": []
    },
    {
      "cell_type": "code",
      "source": [
        "train_end = int(0.7 * n)\n",
        "val_end = int(0.85 * n)"
      ],
      "metadata": {
        "id": "oFhON5KdNLIR"
      },
      "execution_count": 10,
      "outputs": []
    },
    {
      "cell_type": "code",
      "source": [
        "print(train_end)\n",
        "print(val_end)"
      ],
      "metadata": {
        "colab": {
          "base_uri": "https://localhost:8080/"
        },
        "id": "BbqavlLfNWpn",
        "outputId": "cfe9f608-d477-4557-cadf-6ab87c11809b"
      },
      "execution_count": 11,
      "outputs": [
        {
          "output_type": "stream",
          "name": "stdout",
          "text": [
            "458\n",
            "556\n"
          ]
        }
      ]
    },
    {
      "cell_type": "code",
      "source": [
        "train = df.iloc[:train_end]\n",
        "val = df.iloc[train_end:val_end]\n",
        "test = df.iloc[val_end:]"
      ],
      "metadata": {
        "id": "t0mOSWwcNbXw"
      },
      "execution_count": 12,
      "outputs": []
    },
    {
      "cell_type": "code",
      "source": [
        "train.to_csv(os.path.join(SPLIT_DIR, \"train.csv\"), index=False)\n",
        "val.to_csv(os.path.join(SPLIT_DIR, \"val.csv\"), index=False)\n",
        "test.to_csv(os.path.join(SPLIT_DIR, \"test.csv\"), index=False)"
      ],
      "metadata": {
        "id": "z7GsuZI8N9bR"
      },
      "execution_count": 13,
      "outputs": []
    },
    {
      "cell_type": "code",
      "source": [
        "print(\"Completed Data splittion!\")"
      ],
      "metadata": {
        "colab": {
          "base_uri": "https://localhost:8080/"
        },
        "id": "xqGqwuCwODlh",
        "outputId": "ad9b87ae-5c37-41dd-e71a-35b050ecc66f"
      },
      "execution_count": 14,
      "outputs": [
        {
          "output_type": "stream",
          "name": "stdout",
          "text": [
            "Completed Data splittion!\n"
          ]
        }
      ]
    },
    {
      "cell_type": "code",
      "source": [
        "eval_criteria = {\n",
        "    \"matching_success_rate\": {\n",
        "        \"definition\": \"Proportion of trips successfully matched into shared rides\",\n",
        "        \"formula\": \"matched_trips / total_trips\"\n",
        "    },\n",
        "    \"detour_ratio\": {\n",
        "        \"definition\": \"Avg extra distance/time (%) compared to solo trips\",\n",
        "        \"formula\": \"(shared_distance - solo_distance) / solo_distance\"\n",
        "    },\n",
        "    \"avg_wait_time_min\": {\n",
        "        \"definition\": \"Estimated avg passenger wait time before pickup\",\n",
        "        \"note\": \"Can be simulated if schedule data exists\"\n",
        "    },\n",
        "    \"fleet_efficiency\": {\n",
        "        \"definition\": \"Avg occupancy (passengers per vehicle per trip)\",\n",
        "        \"formula\": \"total_passenger_km / total_vehicle_km\"\n",
        "    },\n",
        "    \"carbon_savings\": {\n",
        "        \"definition\": \"CO₂ reduction compared to all trips done solo\",\n",
        "        \"formula\": \"baseline_co2 - shared_co2\"\n",
        "    }\n",
        "}"
      ],
      "metadata": {
        "id": "nOKbxse1OKfG"
      },
      "execution_count": 15,
      "outputs": []
    },
    {
      "cell_type": "code",
      "source": [
        "with open(os.path.join(SPLIT_DIR, \"eval_config.json\"), \"w\") as f:\n",
        "    json.dump(eval_criteria, f, indent=2)"
      ],
      "metadata": {
        "id": "rhbb9mOROXIS"
      },
      "execution_count": 16,
      "outputs": []
    },
    {
      "cell_type": "code",
      "source": [
        "print(\"Evaluation criteria saved as eval_config.json!\")"
      ],
      "metadata": {
        "colab": {
          "base_uri": "https://localhost:8080/"
        },
        "id": "WAD7GiqZObE-",
        "outputId": "dfbccce4-5c44-4c0e-b724-109f30ed0159"
      },
      "execution_count": 17,
      "outputs": [
        {
          "output_type": "stream",
          "name": "stdout",
          "text": [
            "Evaluation criteria saved as eval_config.json!\n"
          ]
        }
      ]
    },
    {
      "cell_type": "code",
      "source": [],
      "metadata": {
        "id": "jo1PxWHtOkL5"
      },
      "execution_count": null,
      "outputs": []
    }
  ]
}